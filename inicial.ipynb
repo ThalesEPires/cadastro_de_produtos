{
 "cells": [
  {
   "cell_type": "code",
   "execution_count": null,
   "metadata": {},
   "outputs": [],
   "source": [
    "# Para o código funcionar corretamente, é necessário passar a posição do mouse em alguns campos,\n",
    "# pois isso pode mudar devido a resolução do monitor\n",
    "\n",
    "import pandas as pd\n",
    "import pyautogui\n",
    "import time\n",
    "\n",
    "tabela = pd.read_csv(\"produtos.csv\")\n",
    "print(tabela)"
   ]
  },
  {
   "cell_type": "code",
   "execution_count": 31,
   "metadata": {},
   "outputs": [],
   "source": [
    "#célula de código para identificar a posição do mouse\n",
    "\n",
    "#time.sleep(5)\n",
    "#print(pyautogui.position())\n",
    "#pyautogui.scroll(-200) #testar o quanto de scroll"
   ]
  },
  {
   "cell_type": "code",
   "execution_count": 32,
   "metadata": {},
   "outputs": [],
   "source": [
    "pyautogui.PAUSE = 0.5\n",
    "\n",
    "pyautogui.press(\"win\")\n",
    "pyautogui.write(\"edge\")\n",
    "pyautogui.press(\"enter\")\n",
    "pyautogui.write(\"https://dlp.hashtagtreinamentos.com/python/intensivao/login\")\n",
    "pyautogui.press(\"enter\")\n",
    "\n",
    "time.sleep(5)"
   ]
  },
  {
   "cell_type": "code",
   "execution_count": 33,
   "metadata": {},
   "outputs": [],
   "source": [
    "pyautogui.click(x=851, y=363)\n",
    "pyautogui.write(\"emailteste@gmail.com\")\n",
    "pyautogui.press(\"tab\")\n",
    "pyautogui.write(\"sua senha\")\n",
    "pyautogui.click(x=963, y=522)"
   ]
  },
  {
   "cell_type": "code",
   "execution_count": null,
   "metadata": {},
   "outputs": [],
   "source": [
    "for linha in tabela.index:\n",
    "    pyautogui.click(x=878, y=247)\n",
    "    pyautogui.write(str(tabela.loc[linha, \"codigo\"]))\n",
    "    pyautogui.press(\"tab\")\n",
    "    pyautogui.write(str(tabela.loc[linha, \"marca\"]))\n",
    "    pyautogui.press(\"tab\")\n",
    "    pyautogui.write(str(tabela.loc[linha, \"tipo\"]))\n",
    "    pyautogui.press(\"tab\")\n",
    "    pyautogui.write(str(tabela.loc[linha, \"categoria\"]))\n",
    "    pyautogui.press(\"tab\")\n",
    "    pyautogui.write(str(tabela.loc[linha, \"preco_unitario\"]))\n",
    "    pyautogui.press(\"tab\")\n",
    "    pyautogui.write(str(tabela.loc[linha, \"custo\"]))\n",
    "    pyautogui.press(\"tab\")\n",
    "\n",
    "    if not pd.isna(tabela.loc[linha, \"obs\"]):\n",
    "        pyautogui.write(str(tabela.loc[linha, \"obs\"]))\n",
    "\n",
    "    pyautogui.click(x=877, y=896)\n",
    "    pyautogui.scroll(5000)"
   ]
  }
 ],
 "metadata": {
  "kernelspec": {
   "display_name": "Python 3",
   "language": "python",
   "name": "python3"
  },
  "language_info": {
   "codemirror_mode": {
    "name": "ipython",
    "version": 3
   },
   "file_extension": ".py",
   "mimetype": "text/x-python",
   "name": "python",
   "nbconvert_exporter": "python",
   "pygments_lexer": "ipython3",
   "version": "3.13.1"
  }
 },
 "nbformat": 4,
 "nbformat_minor": 2
}
